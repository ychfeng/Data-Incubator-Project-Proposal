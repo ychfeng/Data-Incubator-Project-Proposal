{
 "cells": [
  {
   "cell_type": "code",
   "execution_count": 83,
   "metadata": {},
   "outputs": [],
   "source": [
    "import pandas as pd\n",
    "from datetime import datetime\n",
    "import numpy as np\n",
    "import statistics\n",
    "import matplotlib.pyplot as plt\n"
   ]
  },
  {
   "cell_type": "code",
   "execution_count": 2,
   "metadata": {},
   "outputs": [],
   "source": [
    "# original data source\n",
    "data=pd.read_csv('/Users/yichuan/Desktop/Venmo project/data/venmoSample.csv')"
   ]
  },
  {
   "cell_type": "code",
   "execution_count": 3,
   "metadata": {},
   "outputs": [
    {
     "data": {
      "text/html": [
       "<div>\n",
       "<style scoped>\n",
       "    .dataframe tbody tr th:only-of-type {\n",
       "        vertical-align: middle;\n",
       "    }\n",
       "\n",
       "    .dataframe tbody tr th {\n",
       "        vertical-align: top;\n",
       "    }\n",
       "\n",
       "    .dataframe thead th {\n",
       "        text-align: right;\n",
       "    }\n",
       "</style>\n",
       "<table border=\"1\" class=\"dataframe\">\n",
       "  <thead>\n",
       "    <tr style=\"text-align: right;\">\n",
       "      <th></th>\n",
       "      <th>user1</th>\n",
       "      <th>user2</th>\n",
       "      <th>transaction_type</th>\n",
       "      <th>datetime</th>\n",
       "      <th>description</th>\n",
       "      <th>is_business</th>\n",
       "      <th>story_id</th>\n",
       "    </tr>\n",
       "  </thead>\n",
       "  <tbody>\n",
       "    <tr>\n",
       "      <th>0</th>\n",
       "      <td>1218774</td>\n",
       "      <td>1528945</td>\n",
       "      <td>payment</td>\n",
       "      <td>2015-11-27 02:48:19</td>\n",
       "      <td>Uber</td>\n",
       "      <td>False</td>\n",
       "      <td>5657c473cd03c9af22cff874</td>\n",
       "    </tr>\n",
       "    <tr>\n",
       "      <th>1</th>\n",
       "      <td>5109483</td>\n",
       "      <td>4782303</td>\n",
       "      <td>payment</td>\n",
       "      <td>2015-06-17 04:37:04</td>\n",
       "      <td>Costco</td>\n",
       "      <td>False</td>\n",
       "      <td>5580f9702b64f70ab0114e94</td>\n",
       "    </tr>\n",
       "    <tr>\n",
       "      <th>2</th>\n",
       "      <td>4322148</td>\n",
       "      <td>3392963</td>\n",
       "      <td>payment</td>\n",
       "      <td>2015-06-19 00:05:31</td>\n",
       "      <td>Sweaty balls</td>\n",
       "      <td>False</td>\n",
       "      <td>55835ccb1a624b14ac62cef4</td>\n",
       "    </tr>\n",
       "    <tr>\n",
       "      <th>3</th>\n",
       "      <td>469894</td>\n",
       "      <td>1333620</td>\n",
       "      <td>charge</td>\n",
       "      <td>2016-06-03 16:34:13</td>\n",
       "      <td>🎥</td>\n",
       "      <td>False</td>\n",
       "      <td>5751b185cd03c9af224c0d17</td>\n",
       "    </tr>\n",
       "    <tr>\n",
       "      <th>4</th>\n",
       "      <td>2960727</td>\n",
       "      <td>3442373</td>\n",
       "      <td>payment</td>\n",
       "      <td>2016-05-29 16:23:42</td>\n",
       "      <td>⚡</td>\n",
       "      <td>False</td>\n",
       "      <td>574b178ecd03c9af22cf67f4</td>\n",
       "    </tr>\n",
       "  </tbody>\n",
       "</table>\n",
       "</div>"
      ],
      "text/plain": [
       "     user1    user2 transaction_type             datetime   description  \\\n",
       "0  1218774  1528945          payment  2015-11-27 02:48:19          Uber   \n",
       "1  5109483  4782303          payment  2015-06-17 04:37:04        Costco   \n",
       "2  4322148  3392963          payment  2015-06-19 00:05:31  Sweaty balls   \n",
       "3   469894  1333620           charge  2016-06-03 16:34:13             🎥   \n",
       "4  2960727  3442373          payment  2016-05-29 16:23:42             ⚡   \n",
       "\n",
       "   is_business                  story_id  \n",
       "0        False  5657c473cd03c9af22cff874  \n",
       "1        False  5580f9702b64f70ab0114e94  \n",
       "2        False  55835ccb1a624b14ac62cef4  \n",
       "3        False  5751b185cd03c9af224c0d17  \n",
       "4        False  574b178ecd03c9af22cf67f4  "
      ]
     },
     "execution_count": 3,
     "metadata": {},
     "output_type": "execute_result"
    }
   ],
   "source": [
    "data.head()"
   ]
  },
  {
   "cell_type": "markdown",
   "metadata": {},
   "source": [
    "# Data Processing"
   ]
  },
  {
   "cell_type": "code",
   "execution_count": 7,
   "metadata": {},
   "outputs": [],
   "source": [
    "data['date']=[x.split(' ')[0] for x in data['datetime']]\n",
    "data['time']=[x.split(' ')[1] for x in data['datetime']]\n",
    "# strptime for further use\n",
    "date_format = '%Y-%m-%d'\n",
    "data['date_timestamp']=[datetime.strptime(str(x), date_format) for x in data['date']]\n",
    "date_format = '%H:%M:%S'\n",
    "data['time_timestamp']=[datetime.strptime(str(x), date_format) for x in data['time']]\n",
    "data['year']=[x.year for x in data['date_timestamp']]"
   ]
  },
  {
   "cell_type": "code",
   "execution_count": 14,
   "metadata": {},
   "outputs": [
    {
     "data": {
      "text/plain": [
       "2016    3817434\n",
       "2015    2535158\n",
       "2014     653769\n",
       "2013      78488\n",
       "2012       5387\n",
       "2011          5\n",
       "Name: year, dtype: int64"
      ]
     },
     "execution_count": 14,
     "metadata": {},
     "output_type": "execute_result"
    }
   ],
   "source": [
    "data['year'].value_counts()"
   ]
  },
  {
   "cell_type": "code",
   "execution_count": 26,
   "metadata": {},
   "outputs": [],
   "source": [
    "# subset data of 2016\n",
    "data_2016=data[data['year']==2016]"
   ]
  },
  {
   "cell_type": "markdown",
   "metadata": {},
   "source": [
    "-------"
   ]
  },
  {
   "cell_type": "code",
   "execution_count": 279,
   "metadata": {},
   "outputs": [
    {
     "data": {
      "text/plain": [
       "(3817434, 12)"
      ]
     },
     "execution_count": 279,
     "metadata": {},
     "output_type": "execute_result"
    }
   ],
   "source": [
    "data_2016.shape"
   ]
  },
  {
   "cell_type": "code",
   "execution_count": 145,
   "metadata": {},
   "outputs": [
    {
     "name": "stderr",
     "output_type": "stream",
     "text": [
      "/anaconda3/lib/python3.7/site-packages/ipykernel_launcher.py:1: SettingWithCopyWarning: \n",
      "A value is trying to be set on a copy of a slice from a DataFrame.\n",
      "Try using .loc[row_indexer,col_indexer] = value instead\n",
      "\n",
      "See the caveats in the documentation: http://pandas.pydata.org/pandas-docs/stable/indexing.html#indexing-view-versus-copy\n",
      "  \"\"\"Entry point for launching an IPython kernel.\n"
     ]
    }
   ],
   "source": [
    "data_2016['month']=[x.month for x in data_2016['date_timestamp']]"
   ]
  },
  {
   "cell_type": "code",
   "execution_count": 278,
   "metadata": {},
   "outputs": [],
   "source": [
    "#result.to_csv('/Users/yichuan/Desktop/Incubator-challenge/project/to_see_size.csv')"
   ]
  },
  {
   "cell_type": "markdown",
   "metadata": {},
   "source": [
    "-------"
   ]
  },
  {
   "cell_type": "code",
   "execution_count": 147,
   "metadata": {
    "scrolled": true
   },
   "outputs": [],
   "source": [
    "# count number of transactions per user\n",
    "# number of transactions = number of sending + number of receiving\n",
    "data2=data_2016[['user2', 'user1', 'date_timestamp', 'month','time_timestamp' ]]"
   ]
  },
  {
   "cell_type": "code",
   "execution_count": 148,
   "metadata": {},
   "outputs": [],
   "source": [
    "data2.columns=['user1', 'user2', 'date_timestamp', 'month','time_timestamp']"
   ]
  },
  {
   "cell_type": "code",
   "execution_count": 222,
   "metadata": {},
   "outputs": [],
   "source": [
    "frames = [data_2016, data2]\n",
    "\n",
    "data_2016_double = pd.concat(frames,sort=False)"
   ]
  },
  {
   "cell_type": "code",
   "execution_count": 223,
   "metadata": {},
   "outputs": [
    {
     "data": {
      "text/plain": [
       "(7634868, 5)"
      ]
     },
     "execution_count": 223,
     "metadata": {},
     "output_type": "execute_result"
    }
   ],
   "source": [
    "data_2016_double.shape"
   ]
  },
  {
   "cell_type": "code",
   "execution_count": 224,
   "metadata": {
    "scrolled": true
   },
   "outputs": [],
   "source": [
    "count_transaction=data_2016_double.groupby(['user1']).agg({'user2':'count'})"
   ]
  },
  {
   "cell_type": "code",
   "execution_count": 225,
   "metadata": {},
   "outputs": [],
   "source": [
    "count_transaction.columns=['count_transaction']"
   ]
  },
  {
   "cell_type": "code",
   "execution_count": 226,
   "metadata": {},
   "outputs": [],
   "source": [
    "trans_10=count_transaction[count_transaction['count_transaction']>=10]"
   ]
  },
  {
   "cell_type": "code",
   "execution_count": 227,
   "metadata": {},
   "outputs": [
    {
     "data": {
      "text/plain": [
       "(118965, 1)"
      ]
     },
     "execution_count": 227,
     "metadata": {},
     "output_type": "execute_result"
    }
   ],
   "source": [
    "trans_10.shape"
   ]
  },
  {
   "cell_type": "code",
   "execution_count": 228,
   "metadata": {},
   "outputs": [],
   "source": [
    "# data of users with transactions>10   \n",
    "# data size: 117.2 MB\n",
    "result=data_2016_double.merge(trans_10, left_on=['user1'],right_index=True)\n"
   ]
  },
  {
   "cell_type": "code",
   "execution_count": 177,
   "metadata": {},
   "outputs": [
    {
     "data": {
      "text/html": [
       "<div>\n",
       "<style scoped>\n",
       "    .dataframe tbody tr th:only-of-type {\n",
       "        vertical-align: middle;\n",
       "    }\n",
       "\n",
       "    .dataframe tbody tr th {\n",
       "        vertical-align: top;\n",
       "    }\n",
       "\n",
       "    .dataframe thead th {\n",
       "        text-align: right;\n",
       "    }\n",
       "</style>\n",
       "<table border=\"1\" class=\"dataframe\">\n",
       "  <thead>\n",
       "    <tr style=\"text-align: right;\">\n",
       "      <th></th>\n",
       "      <th>user1</th>\n",
       "      <th>user2</th>\n",
       "      <th>date_timestamp</th>\n",
       "      <th>time_timestamp</th>\n",
       "      <th>month</th>\n",
       "      <th>count_transaction</th>\n",
       "    </tr>\n",
       "  </thead>\n",
       "  <tbody>\n",
       "    <tr>\n",
       "      <th>4</th>\n",
       "      <td>2960727</td>\n",
       "      <td>3442373</td>\n",
       "      <td>2016-05-29</td>\n",
       "      <td>1900-01-01 16:23:42</td>\n",
       "      <td>5</td>\n",
       "      <td>21</td>\n",
       "    </tr>\n",
       "    <tr>\n",
       "      <th>164504</th>\n",
       "      <td>2960727</td>\n",
       "      <td>2172670</td>\n",
       "      <td>2016-03-13</td>\n",
       "      <td>1900-01-01 00:23:46</td>\n",
       "      <td>3</td>\n",
       "      <td>21</td>\n",
       "    </tr>\n",
       "    <tr>\n",
       "      <th>442203</th>\n",
       "      <td>2960727</td>\n",
       "      <td>2358299</td>\n",
       "      <td>2016-01-24</td>\n",
       "      <td>1900-01-01 23:45:07</td>\n",
       "      <td>1</td>\n",
       "      <td>21</td>\n",
       "    </tr>\n",
       "    <tr>\n",
       "      <th>1011332</th>\n",
       "      <td>2960727</td>\n",
       "      <td>2190884</td>\n",
       "      <td>2016-04-26</td>\n",
       "      <td>1900-01-01 14:11:08</td>\n",
       "      <td>4</td>\n",
       "      <td>21</td>\n",
       "    </tr>\n",
       "    <tr>\n",
       "      <th>2038219</th>\n",
       "      <td>2960727</td>\n",
       "      <td>2390867</td>\n",
       "      <td>2016-06-18</td>\n",
       "      <td>1900-01-01 05:27:42</td>\n",
       "      <td>6</td>\n",
       "      <td>21</td>\n",
       "    </tr>\n",
       "  </tbody>\n",
       "</table>\n",
       "</div>"
      ],
      "text/plain": [
       "           user1    user2 date_timestamp      time_timestamp  month  \\\n",
       "4        2960727  3442373     2016-05-29 1900-01-01 16:23:42      5   \n",
       "164504   2960727  2172670     2016-03-13 1900-01-01 00:23:46      3   \n",
       "442203   2960727  2358299     2016-01-24 1900-01-01 23:45:07      1   \n",
       "1011332  2960727  2190884     2016-04-26 1900-01-01 14:11:08      4   \n",
       "2038219  2960727  2390867     2016-06-18 1900-01-01 05:27:42      6   \n",
       "\n",
       "         count_transaction  \n",
       "4                       21  \n",
       "164504                  21  \n",
       "442203                  21  \n",
       "1011332                 21  \n",
       "2038219                 21  "
      ]
     },
     "execution_count": 177,
     "metadata": {},
     "output_type": "execute_result"
    }
   ],
   "source": [
    "result.head()"
   ]
  },
  {
   "cell_type": "code",
   "execution_count": 229,
   "metadata": {},
   "outputs": [
    {
     "data": {
      "text/plain": [
       "(1615954, 6)"
      ]
     },
     "execution_count": 229,
     "metadata": {},
     "output_type": "execute_result"
    }
   ],
   "source": [
    "# users: 118,965\n",
    "result.shape  # all transactions for users with 10 or more transactions"
   ]
  },
  {
   "cell_type": "markdown",
   "metadata": {},
   "source": [
    "# Plot One\n",
    "\n",
    "Relationship of the number of transactions of users with that of their friends"
   ]
  },
  {
   "cell_type": "code",
   "execution_count": 230,
   "metadata": {},
   "outputs": [],
   "source": [
    "# get number of transactions per month per user\n",
    "count_month=data_2016_double.groupby(['user1','month']).agg({'user2':'count'})\n",
    "count_month.columns=['count_user1']"
   ]
  },
  {
   "cell_type": "code",
   "execution_count": 233,
   "metadata": {
    "scrolled": true
   },
   "outputs": [],
   "source": [
    "# add information of number of transactions per month\n",
    "# for both user1 and user2 (user2: view as friends)\n",
    "result=result.merge(count_month,right_index=True,left_on=['user1','month'])\n",
    "result.columns=['user1', 'user2', 'date_timestamp', 'time_timestamp', 'month',\n",
    "       'count_transaction', 'count_u1_m']\n",
    "result=result.merge(count_month,right_index=True,left_on=['user2','month'],how='left')\n",
    "result.columns=['user1', 'user2', 'date_timestamp', 'time_timestamp', 'month',\n",
    "       'count_transaction', 'count_u1_m', 'count_u2_m']"
   ]
  },
  {
   "cell_type": "code",
   "execution_count": 237,
   "metadata": {},
   "outputs": [
    {
     "data": {
      "text/plain": [
       "(1615954, 8)"
      ]
     },
     "execution_count": 237,
     "metadata": {},
     "output_type": "execute_result"
    }
   ],
   "source": [
    "result.shape"
   ]
  },
  {
   "cell_type": "code",
   "execution_count": 238,
   "metadata": {},
   "outputs": [
    {
     "data": {
      "text/plain": [
       "user1                0\n",
       "user2                0\n",
       "date_timestamp       0\n",
       "time_timestamp       0\n",
       "month                0\n",
       "count_transaction    0\n",
       "count_u1_m           0\n",
       "count_u2_m           0\n",
       "dtype: int64"
      ]
     },
     "execution_count": 238,
     "metadata": {},
     "output_type": "execute_result"
    }
   ],
   "source": [
    "result.isnull().sum()"
   ]
  },
  {
   "cell_type": "markdown",
   "metadata": {},
   "source": [
    "------"
   ]
  },
  {
   "cell_type": "code",
   "execution_count": 239,
   "metadata": {
    "scrolled": true
   },
   "outputs": [],
   "source": [
    "# get number of transactions with each 'friend'\n",
    "# get the total number of transactions of each 'friend'\n",
    "count_friends=result.groupby(['user1','month','user2']).agg({'month':'count',\n",
    "                                              'count_u2_m':'sum'})\n",
    "count_friends.columns=['friend_c','friend_s']"
   ]
  },
  {
   "cell_type": "code",
   "execution_count": 244,
   "metadata": {},
   "outputs": [],
   "source": [
    "count_friends['friend_t']=count_friends['friend_s']/count_friends['friend_c']"
   ]
  },
  {
   "cell_type": "code",
   "execution_count": 255,
   "metadata": {
    "scrolled": true
   },
   "outputs": [],
   "source": [
    "# get the mean of total number of transactions over all 'friends'\n",
    "# per user, per month\n",
    "user_friend=count_friends.groupby(['user1','month']).agg({'friend_t':'mean'})"
   ]
  },
  {
   "cell_type": "code",
   "execution_count": 256,
   "metadata": {
    "scrolled": true
   },
   "outputs": [],
   "source": [
    "user_friend=user_friend.merge(count_month,left_index=True, right_index=True,how='left')"
   ]
  },
  {
   "cell_type": "code",
   "execution_count": 253,
   "metadata": {},
   "outputs": [
    {
     "data": {
      "text/plain": [
       "Index(['friend_t', 'count_user1'], dtype='object')"
      ]
     },
     "execution_count": 253,
     "metadata": {},
     "output_type": "execute_result"
    }
   ],
   "source": [
    "user_friend.columns"
   ]
  },
  {
   "cell_type": "code",
   "execution_count": 257,
   "metadata": {},
   "outputs": [
    {
     "data": {
      "text/plain": [
       "(796261, 2)"
      ]
     },
     "execution_count": 257,
     "metadata": {},
     "output_type": "execute_result"
    }
   ],
   "source": [
    "user_friend.shape"
   ]
  },
  {
   "cell_type": "code",
   "execution_count": 268,
   "metadata": {
    "scrolled": true
   },
   "outputs": [
    {
     "data": {
      "text/html": [
       "<div>\n",
       "<style scoped>\n",
       "    .dataframe tbody tr th:only-of-type {\n",
       "        vertical-align: middle;\n",
       "    }\n",
       "\n",
       "    .dataframe tbody tr th {\n",
       "        vertical-align: top;\n",
       "    }\n",
       "\n",
       "    .dataframe thead th {\n",
       "        text-align: right;\n",
       "    }\n",
       "</style>\n",
       "<table border=\"1\" class=\"dataframe\">\n",
       "  <thead>\n",
       "    <tr style=\"text-align: right;\">\n",
       "      <th></th>\n",
       "      <th></th>\n",
       "      <th>friend_t</th>\n",
       "      <th>count_user1</th>\n",
       "    </tr>\n",
       "    <tr>\n",
       "      <th>user1</th>\n",
       "      <th>month</th>\n",
       "      <th></th>\n",
       "      <th></th>\n",
       "    </tr>\n",
       "  </thead>\n",
       "  <tbody>\n",
       "    <tr>\n",
       "      <th rowspan=\"5\" valign=\"top\">767</th>\n",
       "      <th>2</th>\n",
       "      <td>1.500000</td>\n",
       "      <td>4</td>\n",
       "    </tr>\n",
       "    <tr>\n",
       "      <th>3</th>\n",
       "      <td>1.000000</td>\n",
       "      <td>1</td>\n",
       "    </tr>\n",
       "    <tr>\n",
       "      <th>4</th>\n",
       "      <td>2.250000</td>\n",
       "      <td>5</td>\n",
       "    </tr>\n",
       "    <tr>\n",
       "      <th>5</th>\n",
       "      <td>2.500000</td>\n",
       "      <td>2</td>\n",
       "    </tr>\n",
       "    <tr>\n",
       "      <th>6</th>\n",
       "      <td>1.000000</td>\n",
       "      <td>1</td>\n",
       "    </tr>\n",
       "    <tr>\n",
       "      <th rowspan=\"8\" valign=\"top\">2210</th>\n",
       "      <th>1</th>\n",
       "      <td>2.000000</td>\n",
       "      <td>1</td>\n",
       "    </tr>\n",
       "    <tr>\n",
       "      <th>2</th>\n",
       "      <td>1.500000</td>\n",
       "      <td>2</td>\n",
       "    </tr>\n",
       "    <tr>\n",
       "      <th>4</th>\n",
       "      <td>1.000000</td>\n",
       "      <td>1</td>\n",
       "    </tr>\n",
       "    <tr>\n",
       "      <th>5</th>\n",
       "      <td>1.500000</td>\n",
       "      <td>2</td>\n",
       "    </tr>\n",
       "    <tr>\n",
       "      <th>6</th>\n",
       "      <td>1.500000</td>\n",
       "      <td>2</td>\n",
       "    </tr>\n",
       "    <tr>\n",
       "      <th>7</th>\n",
       "      <td>1.000000</td>\n",
       "      <td>1</td>\n",
       "    </tr>\n",
       "    <tr>\n",
       "      <th>9</th>\n",
       "      <td>3.000000</td>\n",
       "      <td>1</td>\n",
       "    </tr>\n",
       "    <tr>\n",
       "      <th>10</th>\n",
       "      <td>1.250000</td>\n",
       "      <td>4</td>\n",
       "    </tr>\n",
       "    <tr>\n",
       "      <th rowspan=\"6\" valign=\"top\">2504</th>\n",
       "      <th>1</th>\n",
       "      <td>1.000000</td>\n",
       "      <td>1</td>\n",
       "    </tr>\n",
       "    <tr>\n",
       "      <th>3</th>\n",
       "      <td>1.500000</td>\n",
       "      <td>3</td>\n",
       "    </tr>\n",
       "    <tr>\n",
       "      <th>4</th>\n",
       "      <td>1.500000</td>\n",
       "      <td>4</td>\n",
       "    </tr>\n",
       "    <tr>\n",
       "      <th>5</th>\n",
       "      <td>1.000000</td>\n",
       "      <td>1</td>\n",
       "    </tr>\n",
       "    <tr>\n",
       "      <th>6</th>\n",
       "      <td>1.000000</td>\n",
       "      <td>1</td>\n",
       "    </tr>\n",
       "    <tr>\n",
       "      <th>7</th>\n",
       "      <td>2.000000</td>\n",
       "      <td>1</td>\n",
       "    </tr>\n",
       "    <tr>\n",
       "      <th rowspan=\"6\" valign=\"top\">3756</th>\n",
       "      <th>1</th>\n",
       "      <td>2.000000</td>\n",
       "      <td>1</td>\n",
       "    </tr>\n",
       "    <tr>\n",
       "      <th>2</th>\n",
       "      <td>1.000000</td>\n",
       "      <td>1</td>\n",
       "    </tr>\n",
       "    <tr>\n",
       "      <th>3</th>\n",
       "      <td>1.500000</td>\n",
       "      <td>3</td>\n",
       "    </tr>\n",
       "    <tr>\n",
       "      <th>7</th>\n",
       "      <td>2.500000</td>\n",
       "      <td>2</td>\n",
       "    </tr>\n",
       "    <tr>\n",
       "      <th>8</th>\n",
       "      <td>2.000000</td>\n",
       "      <td>1</td>\n",
       "    </tr>\n",
       "    <tr>\n",
       "      <th>9</th>\n",
       "      <td>1.000000</td>\n",
       "      <td>3</td>\n",
       "    </tr>\n",
       "    <tr>\n",
       "      <th rowspan=\"5\" valign=\"top\">4262</th>\n",
       "      <th>1</th>\n",
       "      <td>3.333333</td>\n",
       "      <td>3</td>\n",
       "    </tr>\n",
       "    <tr>\n",
       "      <th>2</th>\n",
       "      <td>3.000000</td>\n",
       "      <td>2</td>\n",
       "    </tr>\n",
       "    <tr>\n",
       "      <th>3</th>\n",
       "      <td>2.000000</td>\n",
       "      <td>2</td>\n",
       "    </tr>\n",
       "    <tr>\n",
       "      <th>4</th>\n",
       "      <td>1.000000</td>\n",
       "      <td>1</td>\n",
       "    </tr>\n",
       "    <tr>\n",
       "      <th>5</th>\n",
       "      <td>2.000000</td>\n",
       "      <td>2</td>\n",
       "    </tr>\n",
       "    <tr>\n",
       "      <th>...</th>\n",
       "      <th>...</th>\n",
       "      <td>...</td>\n",
       "      <td>...</td>\n",
       "    </tr>\n",
       "    <tr>\n",
       "      <th rowspan=\"3\" valign=\"top\">11811424</th>\n",
       "      <th>7</th>\n",
       "      <td>1.800000</td>\n",
       "      <td>6</td>\n",
       "    </tr>\n",
       "    <tr>\n",
       "      <th>8</th>\n",
       "      <td>4.000000</td>\n",
       "      <td>1</td>\n",
       "    </tr>\n",
       "    <tr>\n",
       "      <th>9</th>\n",
       "      <td>6.000000</td>\n",
       "      <td>3</td>\n",
       "    </tr>\n",
       "    <tr>\n",
       "      <th rowspan=\"4\" valign=\"top\">11830059</th>\n",
       "      <th>7</th>\n",
       "      <td>1.333333</td>\n",
       "      <td>6</td>\n",
       "    </tr>\n",
       "    <tr>\n",
       "      <th>8</th>\n",
       "      <td>2.500000</td>\n",
       "      <td>2</td>\n",
       "    </tr>\n",
       "    <tr>\n",
       "      <th>9</th>\n",
       "      <td>3.000000</td>\n",
       "      <td>1</td>\n",
       "    </tr>\n",
       "    <tr>\n",
       "      <th>11</th>\n",
       "      <td>1.000000</td>\n",
       "      <td>1</td>\n",
       "    </tr>\n",
       "    <tr>\n",
       "      <th rowspan=\"4\" valign=\"top\">11931332</th>\n",
       "      <th>7</th>\n",
       "      <td>9.333333</td>\n",
       "      <td>3</td>\n",
       "    </tr>\n",
       "    <tr>\n",
       "      <th>8</th>\n",
       "      <td>6.250000</td>\n",
       "      <td>6</td>\n",
       "    </tr>\n",
       "    <tr>\n",
       "      <th>9</th>\n",
       "      <td>17.000000</td>\n",
       "      <td>1</td>\n",
       "    </tr>\n",
       "    <tr>\n",
       "      <th>11</th>\n",
       "      <td>8.000000</td>\n",
       "      <td>1</td>\n",
       "    </tr>\n",
       "    <tr>\n",
       "      <th rowspan=\"5\" valign=\"top\">11972541</th>\n",
       "      <th>7</th>\n",
       "      <td>3.000000</td>\n",
       "      <td>2</td>\n",
       "    </tr>\n",
       "    <tr>\n",
       "      <th>8</th>\n",
       "      <td>2.500000</td>\n",
       "      <td>3</td>\n",
       "    </tr>\n",
       "    <tr>\n",
       "      <th>9</th>\n",
       "      <td>3.000000</td>\n",
       "      <td>2</td>\n",
       "    </tr>\n",
       "    <tr>\n",
       "      <th>10</th>\n",
       "      <td>2.000000</td>\n",
       "      <td>2</td>\n",
       "    </tr>\n",
       "    <tr>\n",
       "      <th>11</th>\n",
       "      <td>2.000000</td>\n",
       "      <td>2</td>\n",
       "    </tr>\n",
       "    <tr>\n",
       "      <th rowspan=\"4\" valign=\"top\">12217247</th>\n",
       "      <th>7</th>\n",
       "      <td>1.400000</td>\n",
       "      <td>5</td>\n",
       "    </tr>\n",
       "    <tr>\n",
       "      <th>8</th>\n",
       "      <td>1.000000</td>\n",
       "      <td>1</td>\n",
       "    </tr>\n",
       "    <tr>\n",
       "      <th>9</th>\n",
       "      <td>3.333333</td>\n",
       "      <td>3</td>\n",
       "    </tr>\n",
       "    <tr>\n",
       "      <th>10</th>\n",
       "      <td>1.500000</td>\n",
       "      <td>2</td>\n",
       "    </tr>\n",
       "    <tr>\n",
       "      <th rowspan=\"3\" valign=\"top\">12686018</th>\n",
       "      <th>8</th>\n",
       "      <td>3.333333</td>\n",
       "      <td>3</td>\n",
       "    </tr>\n",
       "    <tr>\n",
       "      <th>9</th>\n",
       "      <td>5.500000</td>\n",
       "      <td>2</td>\n",
       "    </tr>\n",
       "    <tr>\n",
       "      <th>10</th>\n",
       "      <td>5.000000</td>\n",
       "      <td>6</td>\n",
       "    </tr>\n",
       "    <tr>\n",
       "      <th rowspan=\"2\" valign=\"top\">13163741</th>\n",
       "      <th>8</th>\n",
       "      <td>2.375000</td>\n",
       "      <td>9</td>\n",
       "    </tr>\n",
       "    <tr>\n",
       "      <th>9</th>\n",
       "      <td>1.666667</td>\n",
       "      <td>6</td>\n",
       "    </tr>\n",
       "    <tr>\n",
       "      <th rowspan=\"3\" valign=\"top\">13254983</th>\n",
       "      <th>8</th>\n",
       "      <td>1.500000</td>\n",
       "      <td>2</td>\n",
       "    </tr>\n",
       "    <tr>\n",
       "      <th>9</th>\n",
       "      <td>2.250000</td>\n",
       "      <td>12</td>\n",
       "    </tr>\n",
       "    <tr>\n",
       "      <th>10</th>\n",
       "      <td>1.642857</td>\n",
       "      <td>14</td>\n",
       "    </tr>\n",
       "    <tr>\n",
       "      <th rowspan=\"2\" valign=\"top\">13825362</th>\n",
       "      <th>9</th>\n",
       "      <td>4.000000</td>\n",
       "      <td>2</td>\n",
       "    </tr>\n",
       "    <tr>\n",
       "      <th>10</th>\n",
       "      <td>2.250000</td>\n",
       "      <td>9</td>\n",
       "    </tr>\n",
       "  </tbody>\n",
       "</table>\n",
       "<p>796261 rows × 2 columns</p>\n",
       "</div>"
      ],
      "text/plain": [
       "                 friend_t  count_user1\n",
       "user1    month                        \n",
       "767      2       1.500000            4\n",
       "         3       1.000000            1\n",
       "         4       2.250000            5\n",
       "         5       2.500000            2\n",
       "         6       1.000000            1\n",
       "2210     1       2.000000            1\n",
       "         2       1.500000            2\n",
       "         4       1.000000            1\n",
       "         5       1.500000            2\n",
       "         6       1.500000            2\n",
       "         7       1.000000            1\n",
       "         9       3.000000            1\n",
       "         10      1.250000            4\n",
       "2504     1       1.000000            1\n",
       "         3       1.500000            3\n",
       "         4       1.500000            4\n",
       "         5       1.000000            1\n",
       "         6       1.000000            1\n",
       "         7       2.000000            1\n",
       "3756     1       2.000000            1\n",
       "         2       1.000000            1\n",
       "         3       1.500000            3\n",
       "         7       2.500000            2\n",
       "         8       2.000000            1\n",
       "         9       1.000000            3\n",
       "4262     1       3.333333            3\n",
       "         2       3.000000            2\n",
       "         3       2.000000            2\n",
       "         4       1.000000            1\n",
       "         5       2.000000            2\n",
       "...                   ...          ...\n",
       "11811424 7       1.800000            6\n",
       "         8       4.000000            1\n",
       "         9       6.000000            3\n",
       "11830059 7       1.333333            6\n",
       "         8       2.500000            2\n",
       "         9       3.000000            1\n",
       "         11      1.000000            1\n",
       "11931332 7       9.333333            3\n",
       "         8       6.250000            6\n",
       "         9      17.000000            1\n",
       "         11      8.000000            1\n",
       "11972541 7       3.000000            2\n",
       "         8       2.500000            3\n",
       "         9       3.000000            2\n",
       "         10      2.000000            2\n",
       "         11      2.000000            2\n",
       "12217247 7       1.400000            5\n",
       "         8       1.000000            1\n",
       "         9       3.333333            3\n",
       "         10      1.500000            2\n",
       "12686018 8       3.333333            3\n",
       "         9       5.500000            2\n",
       "         10      5.000000            6\n",
       "13163741 8       2.375000            9\n",
       "         9       1.666667            6\n",
       "13254983 8       1.500000            2\n",
       "         9       2.250000           12\n",
       "         10      1.642857           14\n",
       "13825362 9       4.000000            2\n",
       "         10      2.250000            9\n",
       "\n",
       "[796261 rows x 2 columns]"
      ]
     },
     "execution_count": 268,
     "metadata": {},
     "output_type": "execute_result"
    }
   ],
   "source": [
    "user_friend"
   ]
  },
  {
   "cell_type": "code",
   "execution_count": 260,
   "metadata": {},
   "outputs": [
    {
     "data": {
      "text/plain": [
       "array([[1.        , 0.15235966],\n",
       "       [0.15235966, 1.        ]])"
      ]
     },
     "execution_count": 260,
     "metadata": {},
     "output_type": "execute_result"
    }
   ],
   "source": [
    "np.corrcoef(user_friend['friend_t'],user_friend['count_user1'])"
   ]
  },
  {
   "cell_type": "code",
   "execution_count": 288,
   "metadata": {},
   "outputs": [],
   "source": [
    "user_friend_plot=user_friend[user_friend['count_user1']<100]"
   ]
  },
  {
   "cell_type": "code",
   "execution_count": 289,
   "metadata": {},
   "outputs": [
    {
     "data": {
      "image/png": "[encoded data removed]",
      "text/plain": [
       "<Figure size 432x288 with 1 Axes>"
      ]
     },
     "metadata": {
      "needs_background": "light"
     },
     "output_type": "display_data"
    }
   ],
   "source": [
    "plt.scatter(user_friend_plot['count_user1'],user_friend_plot['friend_t'])\n",
    "plt.xlabel('Number of Transactions')\n",
    "plt.title('Number of Transaction VS That of Friends')\n",
    "plt.ylabel('Number of Transactions of Friends')\n",
    "plt.show()"
   ]
  },
  {
   "cell_type": "markdown",
   "metadata": {},
   "source": [
    "* The effect of outliers and the small number of transactions per month per user are making the plot hared to read.\n",
    "* Even if I filtered the outliers, things were not much better.\n",
    "* So I decided to analyze based on number of transactions per year per user."
   ]
  },
  {
   "cell_type": "code",
   "execution_count": 284,
   "metadata": {
    "scrolled": true
   },
   "outputs": [],
   "source": [
    "user_friend_plot=user_friend.groupby(['user1']).agg({'friend_t':'sum',\n",
    "                                    'count_user1':'sum'})"
   ]
  },
  {
   "cell_type": "code",
   "execution_count": 285,
   "metadata": {},
   "outputs": [],
   "source": [
    "user_friend_plot=user_friend_plot[user_friend_plot['count_user1']<600]"
   ]
  },
  {
   "cell_type": "code",
   "execution_count": 287,
   "metadata": {},
   "outputs": [
    {
     "data": {
      "image/png": "[encoded data removed]",
      "text/plain": [
       "<Figure size 432x288 with 1 Axes>"
      ]
     },
     "metadata": {
      "needs_background": "light"
     },
     "output_type": "display_data"
    }
   ],
   "source": [
    "plt.scatter(user_friend_plot['count_user1'],user_friend_plot['friend_t'])\n",
    "plt.xlabel('Number of Transactions')\n",
    "plt.title('Number of Transaction VS That of Friends')\n",
    "plt.ylabel('Number of Transactions of Friends')\n",
    "plt.show()"
   ]
  },
  {
   "cell_type": "markdown",
   "metadata": {},
   "source": [
    "* When analyzed based on number of transactions per year per user, the plot showed a positive relationship between number of transactions of users and that of their friends."
   ]
  },
  {
   "cell_type": "markdown",
   "metadata": {},
   "source": [
    "### Further analysis:\n",
    "1. I would like to include more data. Then the analysis window could span to two or three years and make the analysis more solid.\n",
    "\n",
    "2. Apply time series model on predicting the next period's number of transactions"
   ]
  },
  {
   "cell_type": "code",
   "execution_count": null,
   "metadata": {},
   "outputs": [],
   "source": []
  },
  {
   "cell_type": "code",
   "execution_count": null,
   "metadata": {},
   "outputs": [],
   "source": []
  },
  {
   "cell_type": "markdown",
   "metadata": {},
   "source": [
    "# Plot Two\n",
    "\n",
    "Investigate the number of transactions per user per period"
   ]
  },
  {
   "cell_type": "code",
   "execution_count": 292,
   "metadata": {},
   "outputs": [],
   "source": [
    "q2=user_friend.groupby('month').agg({'friend_t':'count',\n",
    "                                 'count_user1':'sum'})"
   ]
  },
  {
   "cell_type": "code",
   "execution_count": 294,
   "metadata": {},
   "outputs": [],
   "source": [
    "q2.columns=['count_user','sum_transaction']"
   ]
  },
  {
   "cell_type": "code",
   "execution_count": 295,
   "metadata": {},
   "outputs": [],
   "source": [
    "q2['per_u']=q2['sum_transaction']/q2['count_user']"
   ]
  },
  {
   "cell_type": "code",
   "execution_count": 298,
   "metadata": {},
   "outputs": [],
   "source": [
    "q2=q2.reset_index()"
   ]
  },
  {
   "cell_type": "code",
   "execution_count": 300,
   "metadata": {},
   "outputs": [
    {
     "data": {
      "image/png": "[encoded data removed]",
      "text/plain": [
       "<Figure size 432x288 with 1 Axes>"
      ]
     },
     "metadata": {
      "needs_background": "light"
     },
     "output_type": "display_data"
    }
   ],
   "source": [
    "plt.scatter(q2['month'],q2['per_u'])\n",
    "plt.xlabel('Month of 2016')\n",
    "plt.title('Number of Transactions Per User in 2016')\n",
    "plt.ylabel('Number of Transactions Per User')\n",
    "plt.show()"
   ]
  },
  {
   "cell_type": "code",
   "execution_count": null,
   "metadata": {},
   "outputs": [],
   "source": []
  }
 ],
 "metadata": {
  "kernelspec": {
   "display_name": "Python 3",
   "language": "python",
   "name": "python3"
  },
  "language_info": {
   "codemirror_mode": {
    "name": "ipython",
    "version": 3
   },
   "file_extension": ".py",
   "mimetype": "text/x-python",
   "name": "python",
   "nbconvert_exporter": "python",
   "pygments_lexer": "ipython3",
   "version": "3.7.1"
  }
 },
 "nbformat": 4,
 "nbformat_minor": 2
}
